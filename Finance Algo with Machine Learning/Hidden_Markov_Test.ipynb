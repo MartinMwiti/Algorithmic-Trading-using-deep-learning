{
  "nbformat": 4,
  "nbformat_minor": 0,
  "metadata": {
    "colab": {
      "name": "Untitled4.ipynb",
      "provenance": []
    },
    "kernelspec": {
      "name": "python3",
      "display_name": "Python 3"
    },
    "accelerator": "GPU"
  },
  "cells": [
    {
      "cell_type": "code",
      "execution_count": 0,
      "metadata": {
        "colab": {},
        "colab_type": "code",
        "id": "4LjrIS4YL4Jl"
      },
      "outputs": [],
      "source": [
        "from google.colab import drive\n",
        "drive.mount('/content/drive')"
      ]
    },
    {
      "cell_type": "code",
      "execution_count": 0,
      "metadata": {
        "colab": {},
        "colab_type": "code",
        "id": "a4b6FrjiMLI3"
      },
      "outputs": [],
      "source": [
        "!pip install hmmlearn\n",
        "!pip install tqdm\n",
        "!pip install docopt"
      ]
    },
    {
      "cell_type": "code",
      "execution_count": 0,
      "metadata": {
        "colab": {},
        "colab_type": "code",
        "id": "qo9W9QfPMEZo"
      },
      "outputs": [],
      "source": [
        "from hmmlearn.hmm import GaussianHMM\n",
        "from sklearn.model_selection import train_test_split\n",
        "from tqdm import tqdm\n",
        "from docopt import docopt\n",
        "import warnings\n",
        "import logging\n",
        "import itertools\n",
        "import pandas as pd\n",
        "import numpy as np\n",
        "import matplotlib.pyplot as plt"
      ]
    },
    {
      "cell_type": "code",
      "execution_count": 0,
      "metadata": {
        "colab": {},
        "colab_type": "code",
        "id": "mFuJpPQTMoPE"
      },
      "outputs": [],
      "source": [
        "plt.style.use('ggplot')"
      ]
    },
    {
      "cell_type": "code",
      "execution_count": 0,
      "metadata": {
        "colab": {},
        "colab_type": "code",
        "id": "BvmctqbpMh4C"
      },
      "outputs": [],
      "source": [
        "class StockPredictor(object):\n",
        "    def __init__(self, company, test_size=0.33,\n",
        "                 n_hidden_states=4, n_latency_days=10,\n",
        "                 n_steps_frac_change=50, n_steps_frac_high=10,\n",
        "                 n_steps_frac_low=10):\n",
        "        self._init_logger()\n",
        "        self.company = company\n",
        "        self.n_latency_days = n_latency_days \n",
        "        self.hmm = GaussianHMM(n_components=n_hidden_states)\n",
        "        self._split_train_test_data(test_size)\n",
        "        self._compute_all_possible_outcomes(n_steps_frac_change, n_steps_frac_high, n_steps_frac_low)\n",
        "\n",
        "    def _init_logger(self):\n",
        "        self._logger = logging.getLogger(__name__)\n",
        "        handler = logging.StreamHandler()\n",
        "        formatter = logging.Formatter('%(asctime)s %(name)-12s %(levelname)-8s %(message)s')\n",
        "        handler.setFormatter(formatter)\n",
        "        self._logger.addHandler(handler)\n",
        "        self._logger.setLevel(logging.DEBUG)\n",
        "\n",
        "    def _split_train_test_data(self, test_size):\n",
        "        data = pd.read_csv('/content/drive/My Drive/{company}.csv'.format(company=self.company))\n",
        "        _train_data, test_data = train_test_split(data, test_size=test_size, shuffle=False)\n",
        "        self._train_data = _train_data\n",
        "        self._test_data = test_data\n",
        "\n",
        "    @staticmethod #A staticmethod is a method that knows nothing about the class or instance it was called on. It just gets the arguments that were passed, no implicit first argument.\n",
        "    def _extract_features(data):\n",
        "        open_price = data['Open'].values\n",
        "        close_price = data['Adj Close'].values\n",
        "        high_price = data['High'].values\n",
        "        low_price = data['Low'].values\n",
        "\n",
        "        # Compute the fraction change in close, high and low prices\n",
        "        # which would be used a feature\n",
        "        frac_change = (close_price - open_price) / open_price\n",
        "        frac_high = (high_price - open_price) / open_price\n",
        "        frac_low = (open_price - low_price) / open_price\n",
        " \n",
        "        return np.column_stack((frac_change, frac_high, frac_low))\n",
        "\n",
        "    def fit(self):\n",
        "        self._logger.info('>>> Extracting Features')\n",
        "        feature_vector = StockPredictor._extract_features(self._train_data)\n",
        "        self._logger.info('Features extraction Completed <<<')\n",
        " \n",
        "        self.hmm.fit(feature_vector)\n",
        "    \n",
        "\n",
        "    def _compute_all_possible_outcomes(self, n_steps_frac_change, n_steps_frac_high, n_steps_frac_low):\n",
        "        #create numerical sequence with line space\n",
        "        frac_change_range = np.linspace(-0.1, 0.1, n_steps_frac_change)\n",
        "        frac_high_range = np.linspace(0, 0.1, n_steps_frac_high)\n",
        "        frac_low_range = np.linspace(0, 0.1, n_steps_frac_low)\n",
        " \n",
        "        self._possible_outcomes = np.array(list(itertools.product(frac_change_range, frac_high_range, frac_low_range)))\n",
        "    \n",
        "    def _get_most_probable_outcome(self, day_index):\n",
        "        previous_data_start_index = max(0, day_index - self.n_latency_days)\n",
        "        previous_data_end_index = max(0, day_index - 1)\n",
        "        previous_data = self._test_data.iloc[previous_data_end_index: previous_data_start_index]\n",
        "        previous_data_features = StockPredictor._extract_features(previous_data)\n",
        " \n",
        "        outcome_score = []\n",
        "        for possible_outcome in self._possible_outcomes:\n",
        "            total_data = np.row_stack((previous_data_features, possible_outcome))\n",
        "            outcome_score.append(self.hmm.score(total_data))\n",
        "        most_probable_outcome = self._possible_outcomes[np.argmax(outcome_score)]\n",
        " \n",
        "        return most_probable_outcome\n",
        " \n",
        "    def predict_close_price(self, day_index):\n",
        "        open_price = self._test_data.iloc[day_index]['Open']\n",
        "        predicted_frac_change, _, _ = self._get_most_probable_outcome(day_index)\n",
        "        return open_price * (1 + predicted_frac_change)\n",
        " \n",
        "    def predict_close_prices_for_days(self, days, with_plot=False):\n",
        "        predicted_close_prices = []\n",
        "        for day_index in tqdm(range(days)):\n",
        "            predicted_close_prices.append(self.predict_close_price(day_index))\n",
        " \n",
        "        if with_plot:\n",
        "            test_data = self._test_data[0: days]\n",
        "            days = np.array(test_data['date'], dtype=\"datetime64[ms]\")\n",
        "            actual_close_prices = test_data['close']\n",
        " \n",
        "            fig = plt.figure()\n",
        " \n",
        "            axes = fig.add_subplot(111)\n",
        "            axes.plot(days, actual_close_prices, 'bo-', label=\"actual\")\n",
        "            axes.plot(days, predicted_close_prices, 'r+-', label=\"predicted\")\n",
        "            axes.set_title('{company}'.format(company=self.company))\n",
        " \n",
        "            fig.autofmt_xdate()\n",
        " \n",
        "            plt.legend()\n",
        "            plt.show()\n",
        " \n",
        "        return predicted_close_prices\n",
        " \n",
        " \n",
        "stock_predictor = StockPredictor(company= 'AAPL')\n",
        "stock_predictor.fit()\n",
        "stock_predictor.predict_close_prices_for_days(500, with_plot=True)\n"
      ]
    },
    {
      "cell_type": "markdown",
      "metadata": {
        "colab_type": "text",
        "id": "dEF4oYakVBcQ"
      },
      "source": [
        "**TESTING**"
      ]
    },
    {
      "cell_type": "code",
      "execution_count": 0,
      "metadata": {
        "colab": {},
        "colab_type": "code",
        "id": "mKIE3kl6VAt4"
      },
      "outputs": [],
      "source": [
        " data = pd.read_csv('/content/drive/My Drive/AAPL.csv')"
      ]
    },
    {
      "cell_type": "code",
      "execution_count": 0,
      "metadata": {
        "colab": {},
        "colab_type": "code",
        "id": "xTTSFgVkMrEx"
      },
      "outputs": [],
      "source": [
        "class StockPredictor(object):\n",
        "    def __init__(self, company, test_size=0.33,\n",
        "                 n_hidden_states=4, n_latency_days=10,\n",
        "                 n_steps_frac_change=50, n_steps_frac_high=10,\n",
        "                 n_steps_frac_low=10):\n",
        "        self._init_logger()\n",
        "        self.company = company\n",
        "        self.n_latency_days = n_latency_days \n",
        "        self.hmm = GaussianHMM(n_components=n_hidden_states)\n",
        "        self._split_train_test_data(test_size)\n",
        "        self._compute_all_possible_outcomes(n_steps_frac_change, n_steps_frac_high, n_steps_frac_low)\n",
        "\n",
        "    def _init_logger(self):\n",
        "        self._logger = logging.getLogger(__name__)\n",
        "        handler = logging.StreamHandler()\n",
        "        formatter = logging.Formatter('%(asctime)s %(name)-12s %(levelname)-8s %(message)s')\n",
        "        handler.setFormatter(formatter)\n",
        "        self._logger.addHandler(handler)\n",
        "        self._logger.setLevel(logging.DEBUG)\n",
        "    \n",
        "    def _split_train_test_data(self, test_size):\n",
        "        _train_data, _test_data = train_test_split(data, test_size=test_size, shuffle=False)\n",
        "        self._train_data = _train_data\n",
        "        self._test_data = _test_data\n",
        "\n",
        "    @staticmethod\n",
        "    def _extract_features(data):\n",
        "        open_price = data['Open'].values\n",
        "        close_price = data['Adj Close'].values\n",
        "        high_price = data['High'].values\n",
        "        low_price = data['Low'].values\n",
        "\n",
        "        # Compute the fraction change in close, high and low prices\n",
        "        # which would be used a feature\n",
        "        frac_change = (close_price - open_price) / open_price\n",
        "        frac_high = (high_price - open_price) / open_price\n",
        "        frac_low = (open_price - low_price) / open_price\n",
        " \n",
        "        return np.column_stack((frac_change, frac_high, frac_low))\n",
        "\n",
        "    def fit(self):\n",
        "        self._logger.info('>>> Extracting Features')\n",
        "        feature_vector = StockPredictor._extract_features(self._train_data)\n",
        "        self._logger.info('Features extraction Completed <<<')\n",
        " \n",
        "        self.hmm.fit(feature_vector)\n",
        "\n",
        "    def _compute_all_possible_outcomes(self, n_steps_frac_change, n_steps_frac_high, n_steps_frac_low):\n",
        "        #create numerical sequence with line space\n",
        "        frac_change_range = np.linspace(-0.1, 0.1, n_steps_frac_change)\n",
        "        frac_high_range = np.linspace(0, 0.1, n_steps_frac_high)\n",
        "        frac_low_range = np.linspace(0, 0.1, n_steps_frac_low)\n",
        " \n",
        "        self._possible_outcomes = np.array(list(itertools.product(frac_change_range, frac_high_range, frac_low_range)))\n",
        "\n",
        "    def _get_most_probable_outcome(self, day_index):\n",
        "        previous_data_start_index = max(0, day_index - self.n_latency_days)\n",
        "        previous_data_end_index = max(0, day_index - 1)\n",
        "        previous_data = self._test_data.iloc[previous_data_end_index: previous_data_start_index]\n",
        "        previous_data_features = StockPredictor._extract_features(previous_data)\n",
        " \n",
        "        outcome_score = []\n",
        "        for possible_outcome in self._possible_outcomes:\n",
        "            total_data = np.row_stack((previous_data_features, possible_outcome))\n",
        "            outcome_score.append(self.hmm.score(total_data))\n",
        "        most_probable_outcome = self._possible_outcomes[np.argmax(outcome_score)]\n",
        " \n",
        "        return most_probable_outcome\n",
        "    \n",
        "    def predict_close_price(self, day_index):\n",
        "        open_price = self._test_data.iloc[day_index]['Open']\n",
        "        predicted_frac_change, _, _ = self._get_most_probable_outcome(day_index)\n",
        "        return open_price * (1 + predicted_frac_change)\n",
        "\n",
        "    "
      ]
    },
    {
      "cell_type": "code",
      "execution_count": 0,
      "metadata": {
        "colab": {
          "base_uri": "https://localhost:8080/",
          "height": 35
        },
        "colab_type": "code",
        "id": "MhOR57vDZSl4",
        "outputId": "f677b57b-23c2-47d8-8322-698052b46016"
      },
      "outputs": [
        {
          "data": {
            "text/plain": [
              "131.60000610351562"
            ]
          },
          "execution_count": 57,
          "metadata": {
            "tags": []
          },
          "output_type": "execute_result"
        }
      ],
      "source": [
        "day_index = 500\n",
        "_train_data, _test_data = train_test_split(data, test_size=0.33, shuffle=False)\n",
        "_test_data.iloc[day_index]['Open']"
      ]
    },
    {
      "cell_type": "code",
      "execution_count": 0,
      "metadata": {
        "colab": {
          "base_uri": "https://localhost:8080/",
          "height": 795
        },
        "colab_type": "code",
        "id": "XZMK_GmUXmyB",
        "outputId": "59b30f6c-2082-47a4-e6fa-26cab2c7c649"
      },
      "outputs": [
        {
          "name": "stdout",
          "output_type": "stream",
          "text": [
            "[-0.1         0.05555556  0.01111111]\n"
          ]
        },
        {
          "ename": "KeyError",
          "evalue": "ignored",
          "output_type": "error",
          "traceback": [
            "\u001b[0;31m---------------------------------------------------------------------------\u001b[0m",
            "\u001b[0;31mTypeError\u001b[0m                                 Traceback (most recent call last)",
            "\u001b[0;32m/usr/local/lib/python3.6/dist-packages/pandas/core/indexes/base.py\u001b[0m in \u001b[0;36mget_value\u001b[0;34m(self, series, key)\u001b[0m\n\u001b[1;32m   4735\u001b[0m             \u001b[0;32mtry\u001b[0m\u001b[0;34m:\u001b[0m\u001b[0;34m\u001b[0m\u001b[0;34m\u001b[0m\u001b[0m\n\u001b[0;32m-> 4736\u001b[0;31m                 \u001b[0;32mreturn\u001b[0m \u001b[0mlibindex\u001b[0m\u001b[0;34m.\u001b[0m\u001b[0mget_value_box\u001b[0m\u001b[0;34m(\u001b[0m\u001b[0ms\u001b[0m\u001b[0;34m,\u001b[0m \u001b[0mkey\u001b[0m\u001b[0;34m)\u001b[0m\u001b[0;34m\u001b[0m\u001b[0;34m\u001b[0m\u001b[0m\n\u001b[0m\u001b[1;32m   4737\u001b[0m             \u001b[0;32mexcept\u001b[0m \u001b[0mIndexError\u001b[0m\u001b[0;34m:\u001b[0m\u001b[0;34m\u001b[0m\u001b[0;34m\u001b[0m\u001b[0m\n",
            "\u001b[0;32mpandas/_libs/index.pyx\u001b[0m in \u001b[0;36mpandas._libs.index.get_value_box\u001b[0;34m()\u001b[0m\n",
            "\u001b[0;32mpandas/_libs/index.pyx\u001b[0m in \u001b[0;36mpandas._libs.index.get_value_at\u001b[0;34m()\u001b[0m\n",
            "\u001b[0;32mpandas/_libs/util.pxd\u001b[0m in \u001b[0;36mpandas._libs.util.get_value_at\u001b[0;34m()\u001b[0m\n",
            "\u001b[0;32mpandas/_libs/util.pxd\u001b[0m in \u001b[0;36mpandas._libs.util.validate_indexer\u001b[0;34m()\u001b[0m\n",
            "\u001b[0;31mTypeError\u001b[0m: 'str' object cannot be interpreted as an integer",
            "\nDuring handling of the above exception, another exception occurred:\n",
            "\u001b[0;31mKeyError\u001b[0m                                  Traceback (most recent call last)",
            "\u001b[0;32m<ipython-input-68-a210726a8e4a>\u001b[0m in \u001b[0;36m<module>\u001b[0;34m()\u001b[0m\n\u001b[1;32m      1\u001b[0m \u001b[0mprint\u001b[0m\u001b[0;34m(\u001b[0m\u001b[0mstock_predictor\u001b[0m\u001b[0;34m.\u001b[0m\u001b[0m_get_most_probable_outcome\u001b[0m\u001b[0;34m(\u001b[0m\u001b[0;36m500\u001b[0m\u001b[0;34m)\u001b[0m\u001b[0;34m)\u001b[0m\u001b[0;34m\u001b[0m\u001b[0;34m\u001b[0m\u001b[0m\n\u001b[0;32m----> 2\u001b[0;31m \u001b[0mprint\u001b[0m\u001b[0;34m(\u001b[0m\u001b[0mstock_predictor\u001b[0m\u001b[0;34m.\u001b[0m\u001b[0mpredict_close_price\u001b[0m\u001b[0;34m(\u001b[0m\u001b[0;36m500\u001b[0m\u001b[0;34m)\u001b[0m\u001b[0;34m)\u001b[0m\u001b[0;34m\u001b[0m\u001b[0;34m\u001b[0m\u001b[0m\n\u001b[0m",
            "\u001b[0;32m<ipython-input-20-6f32bfd581d9>\u001b[0m in \u001b[0;36mpredict_close_price\u001b[0;34m(self, day_index)\u001b[0m\n\u001b[1;32m     71\u001b[0m \u001b[0;34m\u001b[0m\u001b[0m\n\u001b[1;32m     72\u001b[0m     \u001b[0;32mdef\u001b[0m \u001b[0mpredict_close_price\u001b[0m\u001b[0;34m(\u001b[0m\u001b[0mself\u001b[0m\u001b[0;34m,\u001b[0m \u001b[0mday_index\u001b[0m\u001b[0;34m)\u001b[0m\u001b[0;34m:\u001b[0m\u001b[0;34m\u001b[0m\u001b[0;34m\u001b[0m\u001b[0m\n\u001b[0;32m---> 73\u001b[0;31m         \u001b[0mopen_price\u001b[0m \u001b[0;34m=\u001b[0m \u001b[0mself\u001b[0m\u001b[0;34m.\u001b[0m\u001b[0m_test_data\u001b[0m\u001b[0;34m.\u001b[0m\u001b[0miloc\u001b[0m\u001b[0;34m[\u001b[0m\u001b[0mday_index\u001b[0m\u001b[0;34m]\u001b[0m\u001b[0;34m[\u001b[0m\u001b[0;34m'open'\u001b[0m\u001b[0;34m]\u001b[0m\u001b[0;34m\u001b[0m\u001b[0;34m\u001b[0m\u001b[0m\n\u001b[0m\u001b[1;32m     74\u001b[0m         \u001b[0mpredicted_frac_change\u001b[0m\u001b[0;34m,\u001b[0m \u001b[0m_\u001b[0m\u001b[0;34m,\u001b[0m \u001b[0m_\u001b[0m \u001b[0;34m=\u001b[0m \u001b[0mself\u001b[0m\u001b[0;34m.\u001b[0m\u001b[0m_get_most_probable_outcome\u001b[0m\u001b[0;34m(\u001b[0m\u001b[0mday_index\u001b[0m\u001b[0;34m)\u001b[0m\u001b[0;34m\u001b[0m\u001b[0;34m\u001b[0m\u001b[0m\n\u001b[1;32m     75\u001b[0m         \u001b[0;32mreturn\u001b[0m \u001b[0mopen_price\u001b[0m \u001b[0;34m*\u001b[0m \u001b[0;34m(\u001b[0m\u001b[0;36m1\u001b[0m \u001b[0;34m+\u001b[0m \u001b[0mpredicted_frac_change\u001b[0m\u001b[0;34m)\u001b[0m\u001b[0;34m\u001b[0m\u001b[0;34m\u001b[0m\u001b[0m\n",
            "\u001b[0;32m/usr/local/lib/python3.6/dist-packages/pandas/core/series.py\u001b[0m in \u001b[0;36m__getitem__\u001b[0;34m(self, key)\u001b[0m\n\u001b[1;32m   1069\u001b[0m         \u001b[0mkey\u001b[0m \u001b[0;34m=\u001b[0m \u001b[0mcom\u001b[0m\u001b[0;34m.\u001b[0m\u001b[0mapply_if_callable\u001b[0m\u001b[0;34m(\u001b[0m\u001b[0mkey\u001b[0m\u001b[0;34m,\u001b[0m \u001b[0mself\u001b[0m\u001b[0;34m)\u001b[0m\u001b[0;34m\u001b[0m\u001b[0;34m\u001b[0m\u001b[0m\n\u001b[1;32m   1070\u001b[0m         \u001b[0;32mtry\u001b[0m\u001b[0;34m:\u001b[0m\u001b[0;34m\u001b[0m\u001b[0;34m\u001b[0m\u001b[0m\n\u001b[0;32m-> 1071\u001b[0;31m             \u001b[0mresult\u001b[0m \u001b[0;34m=\u001b[0m \u001b[0mself\u001b[0m\u001b[0;34m.\u001b[0m\u001b[0mindex\u001b[0m\u001b[0;34m.\u001b[0m\u001b[0mget_value\u001b[0m\u001b[0;34m(\u001b[0m\u001b[0mself\u001b[0m\u001b[0;34m,\u001b[0m \u001b[0mkey\u001b[0m\u001b[0;34m)\u001b[0m\u001b[0;34m\u001b[0m\u001b[0;34m\u001b[0m\u001b[0m\n\u001b[0m\u001b[1;32m   1072\u001b[0m \u001b[0;34m\u001b[0m\u001b[0m\n\u001b[1;32m   1073\u001b[0m             \u001b[0;32mif\u001b[0m \u001b[0;32mnot\u001b[0m \u001b[0mis_scalar\u001b[0m\u001b[0;34m(\u001b[0m\u001b[0mresult\u001b[0m\u001b[0;34m)\u001b[0m\u001b[0;34m:\u001b[0m\u001b[0;34m\u001b[0m\u001b[0;34m\u001b[0m\u001b[0m\n",
            "\u001b[0;32m/usr/local/lib/python3.6/dist-packages/pandas/core/indexes/base.py\u001b[0m in \u001b[0;36mget_value\u001b[0;34m(self, series, key)\u001b[0m\n\u001b[1;32m   4742\u001b[0m                     \u001b[0;32mraise\u001b[0m \u001b[0mInvalidIndexError\u001b[0m\u001b[0;34m(\u001b[0m\u001b[0mkey\u001b[0m\u001b[0;34m)\u001b[0m\u001b[0;34m\u001b[0m\u001b[0;34m\u001b[0m\u001b[0m\n\u001b[1;32m   4743\u001b[0m                 \u001b[0;32melse\u001b[0m\u001b[0;34m:\u001b[0m\u001b[0;34m\u001b[0m\u001b[0;34m\u001b[0m\u001b[0m\n\u001b[0;32m-> 4744\u001b[0;31m                     \u001b[0;32mraise\u001b[0m \u001b[0me1\u001b[0m\u001b[0;34m\u001b[0m\u001b[0;34m\u001b[0m\u001b[0m\n\u001b[0m\u001b[1;32m   4745\u001b[0m             \u001b[0;32mexcept\u001b[0m \u001b[0mException\u001b[0m\u001b[0;34m:\u001b[0m  \u001b[0;31m# pragma: no cover\u001b[0m\u001b[0;34m\u001b[0m\u001b[0;34m\u001b[0m\u001b[0m\n\u001b[1;32m   4746\u001b[0m                 \u001b[0;32mraise\u001b[0m \u001b[0me1\u001b[0m\u001b[0;34m\u001b[0m\u001b[0;34m\u001b[0m\u001b[0m\n",
            "\u001b[0;32m/usr/local/lib/python3.6/dist-packages/pandas/core/indexes/base.py\u001b[0m in \u001b[0;36mget_value\u001b[0;34m(self, series, key)\u001b[0m\n\u001b[1;32m   4728\u001b[0m         \u001b[0mk\u001b[0m \u001b[0;34m=\u001b[0m \u001b[0mself\u001b[0m\u001b[0;34m.\u001b[0m\u001b[0m_convert_scalar_indexer\u001b[0m\u001b[0;34m(\u001b[0m\u001b[0mk\u001b[0m\u001b[0;34m,\u001b[0m \u001b[0mkind\u001b[0m\u001b[0;34m=\u001b[0m\u001b[0;34m\"getitem\"\u001b[0m\u001b[0;34m)\u001b[0m\u001b[0;34m\u001b[0m\u001b[0;34m\u001b[0m\u001b[0m\n\u001b[1;32m   4729\u001b[0m         \u001b[0;32mtry\u001b[0m\u001b[0;34m:\u001b[0m\u001b[0;34m\u001b[0m\u001b[0;34m\u001b[0m\u001b[0m\n\u001b[0;32m-> 4730\u001b[0;31m             \u001b[0;32mreturn\u001b[0m \u001b[0mself\u001b[0m\u001b[0;34m.\u001b[0m\u001b[0m_engine\u001b[0m\u001b[0;34m.\u001b[0m\u001b[0mget_value\u001b[0m\u001b[0;34m(\u001b[0m\u001b[0ms\u001b[0m\u001b[0;34m,\u001b[0m \u001b[0mk\u001b[0m\u001b[0;34m,\u001b[0m \u001b[0mtz\u001b[0m\u001b[0;34m=\u001b[0m\u001b[0mgetattr\u001b[0m\u001b[0;34m(\u001b[0m\u001b[0mseries\u001b[0m\u001b[0;34m.\u001b[0m\u001b[0mdtype\u001b[0m\u001b[0;34m,\u001b[0m \u001b[0;34m\"tz\"\u001b[0m\u001b[0;34m,\u001b[0m \u001b[0;32mNone\u001b[0m\u001b[0;34m)\u001b[0m\u001b[0;34m)\u001b[0m\u001b[0;34m\u001b[0m\u001b[0;34m\u001b[0m\u001b[0m\n\u001b[0m\u001b[1;32m   4731\u001b[0m         \u001b[0;32mexcept\u001b[0m \u001b[0mKeyError\u001b[0m \u001b[0;32mas\u001b[0m \u001b[0me1\u001b[0m\u001b[0;34m:\u001b[0m\u001b[0;34m\u001b[0m\u001b[0;34m\u001b[0m\u001b[0m\n\u001b[1;32m   4732\u001b[0m             \u001b[0;32mif\u001b[0m \u001b[0mlen\u001b[0m\u001b[0;34m(\u001b[0m\u001b[0mself\u001b[0m\u001b[0;34m)\u001b[0m \u001b[0;34m>\u001b[0m \u001b[0;36m0\u001b[0m \u001b[0;32mand\u001b[0m \u001b[0;34m(\u001b[0m\u001b[0mself\u001b[0m\u001b[0;34m.\u001b[0m\u001b[0mholds_integer\u001b[0m\u001b[0;34m(\u001b[0m\u001b[0;34m)\u001b[0m \u001b[0;32mor\u001b[0m \u001b[0mself\u001b[0m\u001b[0;34m.\u001b[0m\u001b[0mis_boolean\u001b[0m\u001b[0;34m(\u001b[0m\u001b[0;34m)\u001b[0m\u001b[0;34m)\u001b[0m\u001b[0;34m:\u001b[0m\u001b[0;34m\u001b[0m\u001b[0;34m\u001b[0m\u001b[0m\n",
            "\u001b[0;32mpandas/_libs/index.pyx\u001b[0m in \u001b[0;36mpandas._libs.index.IndexEngine.get_value\u001b[0;34m()\u001b[0m\n",
            "\u001b[0;32mpandas/_libs/index.pyx\u001b[0m in \u001b[0;36mpandas._libs.index.IndexEngine.get_value\u001b[0;34m()\u001b[0m\n",
            "\u001b[0;32mpandas/_libs/index.pyx\u001b[0m in \u001b[0;36mpandas._libs.index.IndexEngine.get_loc\u001b[0;34m()\u001b[0m\n",
            "\u001b[0;32mpandas/_libs/hashtable_class_helper.pxi\u001b[0m in \u001b[0;36mpandas._libs.hashtable.PyObjectHashTable.get_item\u001b[0;34m()\u001b[0m\n",
            "\u001b[0;32mpandas/_libs/hashtable_class_helper.pxi\u001b[0m in \u001b[0;36mpandas._libs.hashtable.PyObjectHashTable.get_item\u001b[0;34m()\u001b[0m\n",
            "\u001b[0;31mKeyError\u001b[0m: 'open'"
          ]
        }
      ],
      "source": [
        "print(stock_predictor._get_most_probable_outcome(500))\n",
        "print(stock_predictor.predict_close_price(500))"
      ]
    },
    {
      "cell_type": "code",
      "execution_count": 0,
      "metadata": {
        "colab": {
          "base_uri": "https://localhost:8080/",
          "height": 490
        },
        "colab_type": "code",
        "id": "Z3HWOPyyVnkO",
        "outputId": "9aeddd76-da8d-4978-ce2c-03a6838c10f6"
      },
      "outputs": [
        {
          "name": "stderr",
          "output_type": "stream",
          "text": [
            "2020-01-15 13:16:36,183 __main__     INFO     >>> Extracting Features\n",
            "2020-01-15 13:16:36,183 __main__     INFO     >>> Extracting Features\n",
            "2020-01-15 13:16:36,183 __main__     INFO     >>> Extracting Features\n",
            "2020-01-15 13:16:36,183 __main__     INFO     >>> Extracting Features\n",
            "2020-01-15 13:16:36,183 __main__     INFO     >>> Extracting Features\n",
            "2020-01-15 13:16:36,183 __main__     INFO     >>> Extracting Features\n",
            "2020-01-15 13:16:36,183 __main__     INFO     >>> Extracting Features\n",
            "2020-01-15 13:16:36,183 __main__     INFO     >>> Extracting Features\n",
            "2020-01-15 13:16:36,183 __main__     INFO     >>> Extracting Features\n",
            "2020-01-15 13:16:36,202 __main__     INFO     Features extraction Completed <<<\n",
            "2020-01-15 13:16:36,202 __main__     INFO     Features extraction Completed <<<\n",
            "2020-01-15 13:16:36,202 __main__     INFO     Features extraction Completed <<<\n",
            "2020-01-15 13:16:36,202 __main__     INFO     Features extraction Completed <<<\n",
            "2020-01-15 13:16:36,202 __main__     INFO     Features extraction Completed <<<\n",
            "2020-01-15 13:16:36,202 __main__     INFO     Features extraction Completed <<<\n",
            "2020-01-15 13:16:36,202 __main__     INFO     Features extraction Completed <<<\n",
            "2020-01-15 13:16:36,202 __main__     INFO     Features extraction Completed <<<\n",
            "2020-01-15 13:16:36,202 __main__     INFO     Features extraction Completed <<<\n"
          ]
        },
        {
          "name": "stdout",
          "output_type": "stream",
          "text": [
            "[[-0.07130446  0.07270561  0.03039329]\n",
            " [-0.17611691  0.02193996  0.06524248]\n",
            " [-0.1278025   0.06566264  0.00722889]\n",
            " ...\n",
            " [-0.00453424  0.0097898   0.01030503]\n",
            " [ 0.00711669  0.01115875  0.01464793]\n",
            " [ 0.01283069  0.01293416  0.00141415]]\n",
            "None\n"
          ]
        }
      ],
      "source": [
        "print(_extract_features(data))\n",
        "print(stock_predictor.fit())\n",
        "print(stock_predictor.fit())"
      ]
    }
  ]
}

*[Cite](https://rubikscode.net/2018/10/29/stock-price-prediction-using-hidden-markov-model/)
