{
  "nbformat": 4,
  "nbformat_minor": 0,
  "metadata": {
    "colab": {
      "name": "price_prediction.ipynb",
      "provenance": [],
      "collapsed_sections": [],
      "toc_visible": true
    },
    "kernelspec": {
      "name": "python3",
      "display_name": "Python 3"
    },
    "accelerator": "GPU"
  },
  "cells": [
    {
      "cell_type": "markdown",
      "metadata": {
        "id": "KRbNPD7IOCK3",
        "colab_type": "text"
      },
      "source": [
        "#**Part 1 - Data gathering and preprocessing**\n"
      ]
    },
    {
      "cell_type": "markdown",
      "metadata": {
        "id": "C67XfGT7J9B7",
        "colab_type": "text"
      },
      "source": [
        "**Libraries**"
      ]
    },
    {
      "cell_type": "code",
      "metadata": {
        "id": "ei9gSULOJ16y",
        "colab_type": "code",
        "colab": {}
      },
      "source": [
        "import numpy as np #Linear_Algebra\n",
        "import matplotlib.pyplot as plt\n",
        "import pandas as pd #Data_Processing\n",
        "import pandas_datareader as pdr\n",
        "from scipy import stats\n",
        "%matplotlib inline"
      ],
      "execution_count": 0,
      "outputs": []
    },
    {
      "cell_type": "code",
      "metadata": {
        "id": "uYRZH0-jJGBs",
        "colab_type": "code",
        "colab": {}
      },
      "source": [
        "from IPython.core.interactiveshell import InteractiveShell\n",
        "InteractiveShell.ast_node_interactivity = \"all\""
      ],
      "execution_count": 0,
      "outputs": []
    },
    {
      "cell_type": "code",
      "metadata": {
        "id": "mB75nmgF_GGZ",
        "colab_type": "code",
        "colab": {}
      },
      "source": [
        "pip install -q yfinance --upgrade"
      ],
      "execution_count": 0,
      "outputs": []
    },
    {
      "cell_type": "code",
      "metadata": {
        "id": "x4Vd8OdoK0Kw",
        "colab_type": "code",
        "colab": {}
      },
      "source": [
        "#Import Yahoo Finance\n",
        "import yfinance as yf"
      ],
      "execution_count": 0,
      "outputs": []
    },
    {
      "cell_type": "code",
      "metadata": {
        "id": "dWus539UK_tg",
        "colab_type": "code",
        "colab": {}
      },
      "source": [
        "yf.pdr_override()"
      ],
      "execution_count": 0,
      "outputs": []
    },
    {
      "cell_type": "code",
      "metadata": {
        "id": "JKzsKLhxHkQd",
        "colab_type": "code",
        "colab": {}
      },
      "source": [
        "#CISCO data\n",
        "SELECTED_STOCK = 'CSCO'\n",
        "start = '2010-12-17'\n",
        "end = '2019-12-17'"
      ],
      "execution_count": 0,
      "outputs": []
    },
    {
      "cell_type": "code",
      "metadata": {
        "id": "R4TAtqVVLDaR",
        "colab_type": "code",
        "colab": {}
      },
      "source": [
        "#Download NVIDIA stock price data for the past 10 yrs to date\n",
        "stock_data = pdr.get_data_yahoo(SELECTED_STOCK, start, end)"
      ],
      "execution_count": 0,
      "outputs": []
    },
    {
      "cell_type": "code",
      "metadata": {
        "id": "ehOZlTd4LF18",
        "colab_type": "code",
        "outputId": "670eaf67-a7b8-47b1-b1a7-4f08ec9a0360",
        "colab": {
          "base_uri": "https://localhost:8080/",
          "height": 378
        }
      },
      "source": [
        "stock_data.head(10)"
      ],
      "execution_count": 8,
      "outputs": [
        {
          "output_type": "execute_result",
          "data": {
            "text/html": [
              "<div>\n",
              "<style scoped>\n",
              "    .dataframe tbody tr th:only-of-type {\n",
              "        vertical-align: middle;\n",
              "    }\n",
              "\n",
              "    .dataframe tbody tr th {\n",
              "        vertical-align: top;\n",
              "    }\n",
              "\n",
              "    .dataframe thead th {\n",
              "        text-align: right;\n",
              "    }\n",
              "</style>\n",
              "<table border=\"1\" class=\"dataframe\">\n",
              "  <thead>\n",
              "    <tr style=\"text-align: right;\">\n",
              "      <th></th>\n",
              "      <th>High</th>\n",
              "      <th>Low</th>\n",
              "      <th>Open</th>\n",
              "      <th>Close</th>\n",
              "      <th>Volume</th>\n",
              "      <th>Adj Close</th>\n",
              "    </tr>\n",
              "    <tr>\n",
              "      <th>Date</th>\n",
              "      <th></th>\n",
              "      <th></th>\n",
              "      <th></th>\n",
              "      <th></th>\n",
              "      <th></th>\n",
              "      <th></th>\n",
              "    </tr>\n",
              "  </thead>\n",
              "  <tbody>\n",
              "    <tr>\n",
              "      <th>2010-12-17</th>\n",
              "      <td>19.780001</td>\n",
              "      <td>19.500000</td>\n",
              "      <td>19.700001</td>\n",
              "      <td>19.549999</td>\n",
              "      <td>115525000.0</td>\n",
              "      <td>15.245194</td>\n",
              "    </tr>\n",
              "    <tr>\n",
              "      <th>2010-12-20</th>\n",
              "      <td>19.719999</td>\n",
              "      <td>19.520000</td>\n",
              "      <td>19.580000</td>\n",
              "      <td>19.620001</td>\n",
              "      <td>49113500.0</td>\n",
              "      <td>15.299781</td>\n",
              "    </tr>\n",
              "    <tr>\n",
              "      <th>2010-12-21</th>\n",
              "      <td>19.770000</td>\n",
              "      <td>19.500000</td>\n",
              "      <td>19.639999</td>\n",
              "      <td>19.530001</td>\n",
              "      <td>62386300.0</td>\n",
              "      <td>15.229600</td>\n",
              "    </tr>\n",
              "    <tr>\n",
              "      <th>2010-12-22</th>\n",
              "      <td>19.570000</td>\n",
              "      <td>19.510000</td>\n",
              "      <td>19.540001</td>\n",
              "      <td>19.559999</td>\n",
              "      <td>42787100.0</td>\n",
              "      <td>15.252996</td>\n",
              "    </tr>\n",
              "    <tr>\n",
              "      <th>2010-12-23</th>\n",
              "      <td>19.760000</td>\n",
              "      <td>19.500000</td>\n",
              "      <td>19.540001</td>\n",
              "      <td>19.690001</td>\n",
              "      <td>41599200.0</td>\n",
              "      <td>15.354370</td>\n",
              "    </tr>\n",
              "    <tr>\n",
              "      <th>2010-12-27</th>\n",
              "      <td>20.400000</td>\n",
              "      <td>19.809999</td>\n",
              "      <td>19.840000</td>\n",
              "      <td>20.160000</td>\n",
              "      <td>62054900.0</td>\n",
              "      <td>15.720881</td>\n",
              "    </tr>\n",
              "    <tr>\n",
              "      <th>2010-12-28</th>\n",
              "      <td>20.510000</td>\n",
              "      <td>20.280001</td>\n",
              "      <td>20.370001</td>\n",
              "      <td>20.350000</td>\n",
              "      <td>57275400.0</td>\n",
              "      <td>15.869036</td>\n",
              "    </tr>\n",
              "    <tr>\n",
              "      <th>2010-12-29</th>\n",
              "      <td>20.510000</td>\n",
              "      <td>20.250000</td>\n",
              "      <td>20.490000</td>\n",
              "      <td>20.250000</td>\n",
              "      <td>32977000.0</td>\n",
              "      <td>15.791062</td>\n",
              "    </tr>\n",
              "    <tr>\n",
              "      <th>2010-12-30</th>\n",
              "      <td>20.350000</td>\n",
              "      <td>20.209999</td>\n",
              "      <td>20.320000</td>\n",
              "      <td>20.230000</td>\n",
              "      <td>25576700.0</td>\n",
              "      <td>15.775463</td>\n",
              "    </tr>\n",
              "    <tr>\n",
              "      <th>2010-12-31</th>\n",
              "      <td>20.240000</td>\n",
              "      <td>20.080000</td>\n",
              "      <td>20.240000</td>\n",
              "      <td>20.230000</td>\n",
              "      <td>28677200.0</td>\n",
              "      <td>15.775463</td>\n",
              "    </tr>\n",
              "  </tbody>\n",
              "</table>\n",
              "</div>"
            ],
            "text/plain": [
              "                 High        Low       Open      Close       Volume  Adj Close\n",
              "Date                                                                          \n",
              "2010-12-17  19.780001  19.500000  19.700001  19.549999  115525000.0  15.245194\n",
              "2010-12-20  19.719999  19.520000  19.580000  19.620001   49113500.0  15.299781\n",
              "2010-12-21  19.770000  19.500000  19.639999  19.530001   62386300.0  15.229600\n",
              "2010-12-22  19.570000  19.510000  19.540001  19.559999   42787100.0  15.252996\n",
              "2010-12-23  19.760000  19.500000  19.540001  19.690001   41599200.0  15.354370\n",
              "2010-12-27  20.400000  19.809999  19.840000  20.160000   62054900.0  15.720881\n",
              "2010-12-28  20.510000  20.280001  20.370001  20.350000   57275400.0  15.869036\n",
              "2010-12-29  20.510000  20.250000  20.490000  20.250000   32977000.0  15.791062\n",
              "2010-12-30  20.350000  20.209999  20.320000  20.230000   25576700.0  15.775463\n",
              "2010-12-31  20.240000  20.080000  20.240000  20.230000   28677200.0  15.775463"
            ]
          },
          "metadata": {
            "tags": []
          },
          "execution_count": 8
        }
      ]
    },
    {
      "cell_type": "markdown",
      "metadata": {
        "id": "soiy7GjONyhq",
        "colab_type": "text"
      },
      "source": [
        "**Feature Engineering**"
      ]
    },
    {
      "cell_type": "code",
      "metadata": {
        "id": "rGL_GCq7M6_o",
        "colab_type": "code",
        "outputId": "c0e3911f-695d-4bf4-b044-fc8a73a1d351",
        "colab": {
          "base_uri": "https://localhost:8080/",
          "height": 145
        }
      },
      "source": [
        "#Getting the Open price\n",
        "stock_data_open = stock_data.Open.values\n",
        "reshaped_stock_data_open = np.reshape(stock_data_open, (-1, 1))\n",
        "reshaped_stock_data_open"
      ],
      "execution_count": 9,
      "outputs": [
        {
          "output_type": "execute_result",
          "data": {
            "text/plain": [
              "array([[19.70000076],\n",
              "       [19.57999992],\n",
              "       [19.63999939],\n",
              "       ...,\n",
              "       [44.54999924],\n",
              "       [45.90999985],\n",
              "       [45.79999924]])"
            ]
          },
          "metadata": {
            "tags": []
          },
          "execution_count": 9
        }
      ]
    },
    {
      "cell_type": "code",
      "metadata": {
        "id": "bxbMt6PRGxbQ",
        "colab_type": "code",
        "outputId": "915382b3-cdeb-451c-fa2d-9e321a0a1660",
        "colab": {
          "base_uri": "https://localhost:8080/",
          "height": 35
        }
      },
      "source": [
        "#validity check\n",
        "np.mean(reshaped_stock_data_open)==np.mean(stock_data_open)"
      ],
      "execution_count": 10,
      "outputs": [
        {
          "output_type": "execute_result",
          "data": {
            "text/plain": [
              "True"
            ]
          },
          "metadata": {
            "tags": []
          },
          "execution_count": 10
        }
      ]
    },
    {
      "cell_type": "markdown",
      "metadata": {
        "id": "rzNRL16N8eFB",
        "colab_type": "text"
      },
      "source": [
        "**Feature Scaling**"
      ]
    },
    {
      "cell_type": "code",
      "metadata": {
        "id": "J9LGh9b_8dfI",
        "colab_type": "code",
        "colab": {}
      },
      "source": [
        "from sklearn.preprocessing import MinMaxScaler\n",
        "sc = MinMaxScaler(feature_range = (0,1))\n",
        "scaled_data = sc.fit_transform(reshaped_stock_data_open)"
      ],
      "execution_count": 0,
      "outputs": []
    },
    {
      "cell_type": "code",
      "metadata": {
        "id": "0H2VDom68mgO",
        "colab_type": "code",
        "colab": {}
      },
      "source": [
        "def timestamp(n_period, scaled_data):\n",
        "    x_train = [] \n",
        "    y_train = [] #1 output to predict\n",
        "\n",
        "    for i in range(n_period,len(scaled_data)):\n",
        "        x_train.append(scaled_data[i-n_period:i,0])\n",
        "        y_train.append(scaled_data[i,0])\n",
        "    x_train, y_train = np.array(x_train), np.array(y_train)\n",
        "\n",
        "    #reshaping\n",
        "    x_train = np.reshape(x_train, (x_train.shape[0], x_train.shape[1], 1))\n",
        "\n",
        "    return x_train, y_train"
      ],
      "execution_count": 0,
      "outputs": []
    },
    {
      "cell_type": "code",
      "metadata": {
        "id": "IBLKryX-9B8s",
        "colab_type": "code",
        "colab": {}
      },
      "source": [
        "x_train, y_train = timestamp(60, scaled_data)"
      ],
      "execution_count": 0,
      "outputs": []
    },
    {
      "cell_type": "markdown",
      "metadata": {
        "id": "9rPpLMR-7wWh",
        "colab_type": "text"
      },
      "source": [
        "#**Part 2 - Building the RNN**"
      ]
    },
    {
      "cell_type": "code",
      "metadata": {
        "id": "0MKeO-QhKQVP",
        "colab_type": "code",
        "colab": {}
      },
      "source": [
        "import warnings\n",
        "warnings.simplefilter(\"ignore\")"
      ],
      "execution_count": 0,
      "outputs": []
    },
    {
      "cell_type": "code",
      "metadata": {
        "id": "fldj8Fov7zcN",
        "colab_type": "code",
        "colab": {}
      },
      "source": [
        "#Importing the keras libraries and packages\n",
        "from tensorflow.python.keras.layers import Dense, LSTM, Dropout\n",
        "from tensorflow.python.keras import Sequential"
      ],
      "execution_count": 0,
      "outputs": []
    },
    {
      "cell_type": "code",
      "metadata": {
        "id": "ErAvXgsS78v-",
        "colab_type": "code",
        "colab": {}
      },
      "source": [
        "regressor = Sequential()\n",
        "\n",
        "#Adding the first LSTM Layer and some Dropout regularisation\n",
        "regressor.add(LSTM(units=50, return_sequences=True, input_shape = (x_train.shape[1], 1)))\n",
        "regressor.add(Dropout(rate = 0.2))"
      ],
      "execution_count": 0,
      "outputs": []
    },
    {
      "cell_type": "code",
      "metadata": {
        "id": "bwFOfhEG7_oT",
        "colab_type": "code",
        "colab": {
          "base_uri": "https://localhost:8080/",
          "height": 35
        },
        "outputId": "46ee7879-e64e-4c2a-e838-b0cf3794a5b8"
      },
      "source": [
        "x_train.shape[1]"
      ],
      "execution_count": 21,
      "outputs": [
        {
          "output_type": "execute_result",
          "data": {
            "text/plain": [
              "60"
            ]
          },
          "metadata": {
            "tags": []
          },
          "execution_count": 21
        }
      ]
    },
    {
      "cell_type": "code",
      "metadata": {
        "id": "0WM2v9AD8BxI",
        "colab_type": "code",
        "colab": {}
      },
      "source": [
        "#Adding the second LSTM Layer and some Dropout regularisation\n",
        "regressor.add(LSTM(units=50, return_sequences=True))\n",
        "regressor.add(Dropout(rate = 0.2))"
      ],
      "execution_count": 0,
      "outputs": []
    },
    {
      "cell_type": "code",
      "metadata": {
        "id": "-7iLbqxH8Chi",
        "colab_type": "code",
        "colab": {}
      },
      "source": [
        "#Adding the third LSTM Layer and some Dropout regularisation\n",
        "regressor.add(LSTM(units=50, return_sequences=True))\n",
        "regressor.add(Dropout(rate = 0.2))"
      ],
      "execution_count": 0,
      "outputs": []
    },
    {
      "cell_type": "code",
      "metadata": {
        "id": "N6EMu3oe8Evx",
        "colab_type": "code",
        "colab": {}
      },
      "source": [
        "#Adding the fourth LSTM Layer and some Dropout regularisation\n",
        "regressor.add(LSTM(units=50))\n",
        "regressor.add(Dropout(rate = 0.2))"
      ],
      "execution_count": 0,
      "outputs": []
    },
    {
      "cell_type": "code",
      "metadata": {
        "id": "_80lEuHF8JCV",
        "colab_type": "code",
        "colab": {}
      },
      "source": [
        "#Adding the output layer\n",
        "regressor.add(Dense(units=1))"
      ],
      "execution_count": 0,
      "outputs": []
    },
    {
      "cell_type": "code",
      "metadata": {
        "id": "-pOaXmeo8LMd",
        "colab_type": "code",
        "colab": {}
      },
      "source": [
        "#compiling the RNN\n",
        "regressor.compile(optimizer='adam', loss='mean_squared_error')"
      ],
      "execution_count": 0,
      "outputs": []
    },
    {
      "cell_type": "code",
      "metadata": {
        "id": "3K8DHTIi8P9P",
        "colab_type": "code",
        "colab": {
          "base_uri": "https://localhost:8080/",
          "height": 1000
        },
        "outputId": "4dca8fef-b50b-4d72-e200-be7c72fa4398"
      },
      "source": [
        "#fitting the RNN to the training set\n",
        "regressor.fit(x_train, y_train, epochs=50, batch_size = 32)"
      ],
      "execution_count": 27,
      "outputs": [
        {
          "output_type": "stream",
          "text": [
            "Train on 2204 samples\n",
            "Epoch 1/50\n",
            "2204/2204 [==============================] - 28s 13ms/sample - loss: 0.0181\n",
            "Epoch 2/50\n",
            "2204/2204 [==============================] - 18s 8ms/sample - loss: 0.0029\n",
            "Epoch 3/50\n",
            "2204/2204 [==============================] - 18s 8ms/sample - loss: 0.0032\n",
            "Epoch 4/50\n",
            "2204/2204 [==============================] - 18s 8ms/sample - loss: 0.0026\n",
            "Epoch 5/50\n",
            "2204/2204 [==============================] - 18s 8ms/sample - loss: 0.0025\n",
            "Epoch 6/50\n",
            "2204/2204 [==============================] - 18s 8ms/sample - loss: 0.0022\n",
            "Epoch 7/50\n",
            "2204/2204 [==============================] - 18s 8ms/sample - loss: 0.0024\n",
            "Epoch 8/50\n",
            "2204/2204 [==============================] - 18s 8ms/sample - loss: 0.0021\n",
            "Epoch 9/50\n",
            "2204/2204 [==============================] - 17s 8ms/sample - loss: 0.0022\n",
            "Epoch 10/50\n",
            "2204/2204 [==============================] - 18s 8ms/sample - loss: 0.0021\n",
            "Epoch 11/50\n",
            "2204/2204 [==============================] - 17s 8ms/sample - loss: 0.0024\n",
            "Epoch 12/50\n",
            "2204/2204 [==============================] - 18s 8ms/sample - loss: 0.0019\n",
            "Epoch 13/50\n",
            "2204/2204 [==============================] - 18s 8ms/sample - loss: 0.0019\n",
            "Epoch 14/50\n",
            "2204/2204 [==============================] - 18s 8ms/sample - loss: 0.0019\n",
            "Epoch 15/50\n",
            "2204/2204 [==============================] - 18s 8ms/sample - loss: 0.0017\n",
            "Epoch 16/50\n",
            "2204/2204 [==============================] - 18s 8ms/sample - loss: 0.0016\n",
            "Epoch 17/50\n",
            "2204/2204 [==============================] - 18s 8ms/sample - loss: 0.0016\n",
            "Epoch 18/50\n",
            "2204/2204 [==============================] - 18s 8ms/sample - loss: 0.0017\n",
            "Epoch 19/50\n",
            "2204/2204 [==============================] - 17s 8ms/sample - loss: 0.0017\n",
            "Epoch 20/50\n",
            "2204/2204 [==============================] - 17s 8ms/sample - loss: 0.0014\n",
            "Epoch 21/50\n",
            "2204/2204 [==============================] - 17s 8ms/sample - loss: 0.0016\n",
            "Epoch 22/50\n",
            "2204/2204 [==============================] - 17s 8ms/sample - loss: 0.0013\n",
            "Epoch 23/50\n",
            "2204/2204 [==============================] - 17s 8ms/sample - loss: 0.0016\n",
            "Epoch 24/50\n",
            "2204/2204 [==============================] - 18s 8ms/sample - loss: 0.0013\n",
            "Epoch 25/50\n",
            "2204/2204 [==============================] - 18s 8ms/sample - loss: 0.0014\n",
            "Epoch 26/50\n",
            "2204/2204 [==============================] - 18s 8ms/sample - loss: 0.0015\n",
            "Epoch 27/50\n",
            "2204/2204 [==============================] - 17s 8ms/sample - loss: 0.0012\n",
            "Epoch 28/50\n",
            "2204/2204 [==============================] - 17s 8ms/sample - loss: 0.0013\n",
            "Epoch 29/50\n",
            "2204/2204 [==============================] - 18s 8ms/sample - loss: 0.0013\n",
            "Epoch 30/50\n",
            "2204/2204 [==============================] - 18s 8ms/sample - loss: 0.0012\n",
            "Epoch 31/50\n",
            "2204/2204 [==============================] - 18s 8ms/sample - loss: 0.0012\n",
            "Epoch 32/50\n",
            "2204/2204 [==============================] - 18s 8ms/sample - loss: 0.0013\n",
            "Epoch 33/50\n",
            "2204/2204 [==============================] - 18s 8ms/sample - loss: 0.0012\n",
            "Epoch 34/50\n",
            "2204/2204 [==============================] - 18s 8ms/sample - loss: 0.0012\n",
            "Epoch 35/50\n",
            "2204/2204 [==============================] - 18s 8ms/sample - loss: 0.0011\n",
            "Epoch 36/50\n",
            "2204/2204 [==============================] - 17s 8ms/sample - loss: 0.0012\n",
            "Epoch 37/50\n",
            "2204/2204 [==============================] - 18s 8ms/sample - loss: 0.0013\n",
            "Epoch 38/50\n",
            "2204/2204 [==============================] - 17s 8ms/sample - loss: 9.5937e-04\n",
            "Epoch 39/50\n",
            "2204/2204 [==============================] - 18s 8ms/sample - loss: 9.6846e-04\n",
            "Epoch 40/50\n",
            "2204/2204 [==============================] - 18s 8ms/sample - loss: 0.0011\n",
            "Epoch 41/50\n",
            "2204/2204 [==============================] - 17s 8ms/sample - loss: 9.7834e-04\n",
            "Epoch 42/50\n",
            "2204/2204 [==============================] - 18s 8ms/sample - loss: 9.6057e-04\n",
            "Epoch 43/50\n",
            "2204/2204 [==============================] - 17s 8ms/sample - loss: 0.0011\n",
            "Epoch 44/50\n",
            "2204/2204 [==============================] - 18s 8ms/sample - loss: 0.0011\n",
            "Epoch 45/50\n",
            "2204/2204 [==============================] - 18s 8ms/sample - loss: 9.3953e-04\n",
            "Epoch 46/50\n",
            "2204/2204 [==============================] - 18s 8ms/sample - loss: 8.8671e-04\n",
            "Epoch 47/50\n",
            "2204/2204 [==============================] - 18s 8ms/sample - loss: 9.7741e-04\n",
            "Epoch 48/50\n",
            "2204/2204 [==============================] - 17s 8ms/sample - loss: 0.0010\n",
            "Epoch 49/50\n",
            "2204/2204 [==============================] - 18s 8ms/sample - loss: 9.3180e-04\n",
            "Epoch 50/50\n",
            "2204/2204 [==============================] - 17s 8ms/sample - loss: 9.4939e-04\n"
          ],
          "name": "stdout"
        },
        {
          "output_type": "execute_result",
          "data": {
            "text/plain": [
              "<tensorflow.python.keras.callbacks.History at 0x7f2dbdb79d68>"
            ]
          },
          "metadata": {
            "tags": []
          },
          "execution_count": 27
        }
      ]
    },
    {
      "cell_type": "markdown",
      "metadata": {
        "id": "2JhqXHA0qTP7",
        "colab_type": "text"
      },
      "source": [
        "**Save the model**"
      ]
    },
    {
      "cell_type": "code",
      "metadata": {
        "id": "w-n7T2kLo_Kn",
        "colab_type": "code",
        "colab": {}
      },
      "source": [
        "regressor = regressor.save(\"regressor.h5\")"
      ],
      "execution_count": 0,
      "outputs": []
    },
    {
      "cell_type": "markdown",
      "metadata": {
        "id": "-Cg2xPnOqYqt",
        "colab_type": "text"
      },
      "source": [
        "**Load the model**"
      ]
    },
    {
      "cell_type": "code",
      "metadata": {
        "id": "foORAh2ep18l",
        "colab_type": "code",
        "colab": {}
      },
      "source": [
        "from tensorflow.python.keras.models import load_model\n",
        "\n",
        "regressor = load_model(\"regressor.h5\")"
      ],
      "execution_count": 0,
      "outputs": []
    },
    {
      "cell_type": "markdown",
      "metadata": {
        "id": "uXyp7Km_qgFw",
        "colab_type": "text"
      },
      "source": [
        "#**Part 3 - Making the predictions and visualising the results**"
      ]
    }
  ]
}