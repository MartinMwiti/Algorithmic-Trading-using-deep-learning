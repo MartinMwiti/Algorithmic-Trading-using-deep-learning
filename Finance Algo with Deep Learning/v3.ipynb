{
  "nbformat": 4,
  "nbformat_minor": 0,
  "metadata": {
    "colab": {
      "name": "price_prediction.ipynb",
      "provenance": [],
      "collapsed_sections": [],
      "toc_visible": true
    },
    "kernelspec": {
      "name": "python3",
      "display_name": "Python 3"
    },
    "accelerator": "GPU"
  },
  "cells": [
    {
      "cell_type": "markdown",
      "metadata": {
        "id": "KRbNPD7IOCK3",
        "colab_type": "text"
      },
      "source": [
        "#**Part 1 - Data gathering and feature engineering**\n"
      ]
    },
    {
      "cell_type": "markdown",
      "metadata": {
        "id": "C67XfGT7J9B7",
        "colab_type": "text"
      },
      "source": [
        "**Libraries**"
      ]
    },
    {
      "cell_type": "code",
      "metadata": {
        "id": "ei9gSULOJ16y",
        "colab_type": "code",
        "colab": {}
      },
      "source": [
        "import numpy as np #Linear_Algebra\n",
        "import matplotlib.pyplot as plt\n",
        "import pandas as pd #Data_Processing\n",
        "import pandas_datareader as pdr\n",
        "from scipy import stats\n",
        "%matplotlib inline"
      ],
      "execution_count": 0,
      "outputs": []
    },
    {
      "cell_type": "code",
      "metadata": {
        "id": "uYRZH0-jJGBs",
        "colab_type": "code",
        "colab": {}
      },
      "source": [
        "from IPython.core.interactiveshell import InteractiveShell\n",
        "InteractiveShell.ast_node_interactivity = \"all\""
      ],
      "execution_count": 0,
      "outputs": []
    },
    {
      "cell_type": "code",
      "metadata": {
        "id": "mB75nmgF_GGZ",
        "colab_type": "code",
        "colab": {}
      },
      "source": [
        "pip install -q yfinance --upgrade"
      ],
      "execution_count": 0,
      "outputs": []
    },
    {
      "cell_type": "code",
      "metadata": {
        "id": "x4Vd8OdoK0Kw",
        "colab_type": "code",
        "colab": {}
      },
      "source": [
        "#Import Yahoo Finance\n",
        "import yfinance as yf"
      ],
      "execution_count": 0,
      "outputs": []
    },
    {
      "cell_type": "code",
      "metadata": {
        "id": "dWus539UK_tg",
        "colab_type": "code",
        "colab": {}
      },
      "source": [
        "yf.pdr_override()"
      ],
      "execution_count": 0,
      "outputs": []
    },
    {
      "cell_type": "code",
      "metadata": {
        "id": "JKzsKLhxHkQd",
        "colab_type": "code",
        "colab": {}
      },
      "source": [
        "#CISCO data\n",
        "SELECTED_STOCK = 'CSCO'\n",
        "start = '2010-12-17'\n",
        "end = '2018-12-17'"
      ],
      "execution_count": 0,
      "outputs": []
    },
    {
      "cell_type": "code",
      "metadata": {
        "id": "R4TAtqVVLDaR",
        "colab_type": "code",
        "colab": {}
      },
      "source": [
        "#Download NVIDIA stock price data for the past 10 yrs to date\n",
        "stock_data = pdr.get_data_yahoo(SELECTED_STOCK, start, end)"
      ],
      "execution_count": 0,
      "outputs": []
    },
    {
      "cell_type": "code",
      "metadata": {
        "id": "ehOZlTd4LF18",
        "colab_type": "code",
        "outputId": "6e5c081a-fa13-4e0e-b85a-a7fe9311da76",
        "colab": {
          "base_uri": "https://localhost:8080/",
          "height": 378
        }
      },
      "source": [
        "stock_data.head(10)"
      ],
      "execution_count": 0,
      "outputs": [
        {
          "output_type": "execute_result",
          "data": {
            "text/html": [
              "<div>\n",
              "<style scoped>\n",
              "    .dataframe tbody tr th:only-of-type {\n",
              "        vertical-align: middle;\n",
              "    }\n",
              "\n",
              "    .dataframe tbody tr th {\n",
              "        vertical-align: top;\n",
              "    }\n",
              "\n",
              "    .dataframe thead th {\n",
              "        text-align: right;\n",
              "    }\n",
              "</style>\n",
              "<table border=\"1\" class=\"dataframe\">\n",
              "  <thead>\n",
              "    <tr style=\"text-align: right;\">\n",
              "      <th></th>\n",
              "      <th>High</th>\n",
              "      <th>Low</th>\n",
              "      <th>Open</th>\n",
              "      <th>Close</th>\n",
              "      <th>Volume</th>\n",
              "      <th>Adj Close</th>\n",
              "    </tr>\n",
              "    <tr>\n",
              "      <th>Date</th>\n",
              "      <th></th>\n",
              "      <th></th>\n",
              "      <th></th>\n",
              "      <th></th>\n",
              "      <th></th>\n",
              "      <th></th>\n",
              "    </tr>\n",
              "  </thead>\n",
              "  <tbody>\n",
              "    <tr>\n",
              "      <th>2010-12-17</th>\n",
              "      <td>19.780001</td>\n",
              "      <td>19.500000</td>\n",
              "      <td>19.700001</td>\n",
              "      <td>19.549999</td>\n",
              "      <td>115525000.0</td>\n",
              "      <td>15.245194</td>\n",
              "    </tr>\n",
              "    <tr>\n",
              "      <th>2010-12-20</th>\n",
              "      <td>19.719999</td>\n",
              "      <td>19.520000</td>\n",
              "      <td>19.580000</td>\n",
              "      <td>19.620001</td>\n",
              "      <td>49113500.0</td>\n",
              "      <td>15.299781</td>\n",
              "    </tr>\n",
              "    <tr>\n",
              "      <th>2010-12-21</th>\n",
              "      <td>19.770000</td>\n",
              "      <td>19.500000</td>\n",
              "      <td>19.639999</td>\n",
              "      <td>19.530001</td>\n",
              "      <td>62386300.0</td>\n",
              "      <td>15.229600</td>\n",
              "    </tr>\n",
              "    <tr>\n",
              "      <th>2010-12-22</th>\n",
              "      <td>19.570000</td>\n",
              "      <td>19.510000</td>\n",
              "      <td>19.540001</td>\n",
              "      <td>19.559999</td>\n",
              "      <td>42787100.0</td>\n",
              "      <td>15.252996</td>\n",
              "    </tr>\n",
              "    <tr>\n",
              "      <th>2010-12-23</th>\n",
              "      <td>19.760000</td>\n",
              "      <td>19.500000</td>\n",
              "      <td>19.540001</td>\n",
              "      <td>19.690001</td>\n",
              "      <td>41599200.0</td>\n",
              "      <td>15.354370</td>\n",
              "    </tr>\n",
              "    <tr>\n",
              "      <th>2010-12-27</th>\n",
              "      <td>20.400000</td>\n",
              "      <td>19.809999</td>\n",
              "      <td>19.840000</td>\n",
              "      <td>20.160000</td>\n",
              "      <td>62054900.0</td>\n",
              "      <td>15.720881</td>\n",
              "    </tr>\n",
              "    <tr>\n",
              "      <th>2010-12-28</th>\n",
              "      <td>20.510000</td>\n",
              "      <td>20.280001</td>\n",
              "      <td>20.370001</td>\n",
              "      <td>20.350000</td>\n",
              "      <td>57275400.0</td>\n",
              "      <td>15.869036</td>\n",
              "    </tr>\n",
              "    <tr>\n",
              "      <th>2010-12-29</th>\n",
              "      <td>20.510000</td>\n",
              "      <td>20.250000</td>\n",
              "      <td>20.490000</td>\n",
              "      <td>20.250000</td>\n",
              "      <td>32977000.0</td>\n",
              "      <td>15.791062</td>\n",
              "    </tr>\n",
              "    <tr>\n",
              "      <th>2010-12-30</th>\n",
              "      <td>20.350000</td>\n",
              "      <td>20.209999</td>\n",
              "      <td>20.320000</td>\n",
              "      <td>20.230000</td>\n",
              "      <td>25576700.0</td>\n",
              "      <td>15.775463</td>\n",
              "    </tr>\n",
              "    <tr>\n",
              "      <th>2010-12-31</th>\n",
              "      <td>20.240000</td>\n",
              "      <td>20.080000</td>\n",
              "      <td>20.240000</td>\n",
              "      <td>20.230000</td>\n",
              "      <td>28677200.0</td>\n",
              "      <td>15.775463</td>\n",
              "    </tr>\n",
              "  </tbody>\n",
              "</table>\n",
              "</div>"
            ],
            "text/plain": [
              "                 High        Low       Open      Close       Volume  Adj Close\n",
              "Date                                                                          \n",
              "2010-12-17  19.780001  19.500000  19.700001  19.549999  115525000.0  15.245194\n",
              "2010-12-20  19.719999  19.520000  19.580000  19.620001   49113500.0  15.299781\n",
              "2010-12-21  19.770000  19.500000  19.639999  19.530001   62386300.0  15.229600\n",
              "2010-12-22  19.570000  19.510000  19.540001  19.559999   42787100.0  15.252996\n",
              "2010-12-23  19.760000  19.500000  19.540001  19.690001   41599200.0  15.354370\n",
              "2010-12-27  20.400000  19.809999  19.840000  20.160000   62054900.0  15.720881\n",
              "2010-12-28  20.510000  20.280001  20.370001  20.350000   57275400.0  15.869036\n",
              "2010-12-29  20.510000  20.250000  20.490000  20.250000   32977000.0  15.791062\n",
              "2010-12-30  20.350000  20.209999  20.320000  20.230000   25576700.0  15.775463\n",
              "2010-12-31  20.240000  20.080000  20.240000  20.230000   28677200.0  15.775463"
            ]
          },
          "metadata": {
            "tags": []
          },
          "execution_count": 9
        }
      ]
    },
    {
      "cell_type": "markdown",
      "metadata": {
        "id": "soiy7GjONyhq",
        "colab_type": "text"
      },
      "source": [
        "**Feature Engineering**"
      ]
    },
    {
      "cell_type": "code",
      "metadata": {
        "id": "rGL_GCq7M6_o",
        "colab_type": "code",
        "outputId": "2e0b4975-3cc5-42b0-941a-971f64bb728a",
        "colab": {
          "base_uri": "https://localhost:8080/",
          "height": 145
        }
      },
      "source": [
        "#Getting the Open price\n",
        "stock_data_open = stock_data.Open.values\n",
        "reshaped_stock_data_open = np.reshape(stock_data_open, (-1, 1))\n",
        "reshaped_stock_data_open"
      ],
      "execution_count": 0,
      "outputs": [
        {
          "output_type": "execute_result",
          "data": {
            "text/plain": [
              "array([[19.70000076],\n",
              "       [19.57999992],\n",
              "       [19.63999939],\n",
              "       ...,\n",
              "       [47.68000031],\n",
              "       [46.36999893],\n",
              "       [45.81999969]])"
            ]
          },
          "metadata": {
            "tags": []
          },
          "execution_count": 10
        }
      ]
    },
    {
      "cell_type": "code",
      "metadata": {
        "id": "bxbMt6PRGxbQ",
        "colab_type": "code",
        "outputId": "e2efcb09-9f0e-4454-bd4c-4c44dcb22b03",
        "colab": {
          "base_uri": "https://localhost:8080/",
          "height": 35
        }
      },
      "source": [
        "#validity check\n",
        "np.mean(reshaped_stock_data_open)==np.mean(stock_data_open)"
      ],
      "execution_count": 0,
      "outputs": [
        {
          "output_type": "execute_result",
          "data": {
            "text/plain": [
              "True"
            ]
          },
          "metadata": {
            "tags": []
          },
          "execution_count": 11
        }
      ]
    },
    {
      "cell_type": "markdown",
      "metadata": {
        "id": "As05dR7iKPuo",
        "colab_type": "text"
      },
      "source": [
        "#**Indicators**"
      ]
    },
    {
      "cell_type": "markdown",
      "metadata": {
        "id": "iCffIgJyUMiA",
        "colab_type": "text"
      },
      "source": [
        "##**Moving Average**"
      ]
    },
    {
      "cell_type": "code",
      "metadata": {
        "id": "tQ2Kw1tsUXlT",
        "colab_type": "code",
        "colab": {
          "base_uri": "https://localhost:8080/",
          "height": 788
        },
        "outputId": "63c76dea-097d-44d6-8365-3820e6e22a8d"
      },
      "source": [
        "# Moving Averages Code\n",
        "# Load the necessary packages and modules\n",
        "from pandas_datareader import data as pdr\n",
        "import matplotlib.pyplot as plt\n",
        "import fix_yahoo_finance\n",
        "import pandas as pd\n",
        "# Simple Moving Average \n",
        "def SMA(data, ndays): \n",
        " SMA = pd.Series(data['Close'], name = 'SMA').rolling(window=ndays).mean() \n",
        " data = data.join(SMA) \n",
        " return data\n",
        "# Exponentially-weighted Moving Average \n",
        "def EWMA(data, ndays): \n",
        "    EMA = pd.Series((data['Close'].ewm(span=ndays).mean()), \n",
        "    name = 'EWMA_' + str(ndays)) \n",
        "    data = data.join(EMA) \n",
        "    return data\n",
        "# Retrieve the CISCO data from Yahoo finance:\n",
        "data = pdr.get_data_yahoo(\"CSCO\", start=\"2010-01-01\", end=\"2019-12-16\") \n",
        "data = pd.DataFrame(data) \n",
        "close = data['Close']\n",
        "# Compute the 50-day SMA for CISCO\n",
        "n = 50\n",
        "SMA_CISCO = SMA(data,n)\n",
        "SMA_CISCO = SMA_CISCO.dropna()\n",
        "SMA = SMA_CISCO['SMA']\n",
        "# Compute the 200-day EWMA for CISCO\n",
        "ew = 200\n",
        "EWMA_CISCO = EWMA(data,ew)\n",
        "EWMA_CISCO = EWMA_CISCO.dropna()\n",
        "EWMA = EWMA_CISCO['EWMA_200']\n",
        "# Plotting the CISCO Price Series chart and Moving Averages below\n",
        "plt.figure(figsize=(9,5))\n",
        "plt.plot(data['Close'],lw=1, label='NSE Prices')\n",
        "plt.plot(SMA,'g',lw=1, label='50-day SMA (green)')\n",
        "plt.plot(EWMA,'r', lw=1, label='200-day EWMA (red)')\n",
        "plt.legend(loc=2,prop={'size':11})\n",
        "plt.grid(True)\n",
        "plt.setp(plt.gca().get_xticklabels(), rotation=30)"
      ],
      "execution_count": 34,
      "outputs": [
        {
          "output_type": "stream",
          "text": [
            "\r[*********************100%***********************]  1 of 1 completed\n"
          ],
          "name": "stdout"
        },
        {
          "output_type": "execute_result",
          "data": {
            "text/plain": [
              "[None,\n",
              " None,\n",
              " None,\n",
              " None,\n",
              " None,\n",
              " None,\n",
              " None,\n",
              " None,\n",
              " None,\n",
              " None,\n",
              " None,\n",
              " None,\n",
              " None,\n",
              " None,\n",
              " None,\n",
              " None,\n",
              " None,\n",
              " None,\n",
              " None,\n",
              " None,\n",
              " None,\n",
              " None,\n",
              " None,\n",
              " None]"
            ]
          },
          "metadata": {
            "tags": []
          },
          "execution_count": 34
        },
        {
          "output_type": "display_data",
          "data": {
            "image/png": "[encoded data removed]",
            "text/plain": [
              "<Figure size 648x360 with 1 Axes>"
            ]
          },
          "metadata": {
            "tags": []
          }
        }
      ]
    },
    {
      "cell_type": "markdown",
      "metadata": {
        "id": "g63FR9kgKo3L",
        "colab_type": "text"
      },
      "source": [
        "##**Commodity Channel Index (CCI)**"
      ]
    },
    {
      "cell_type": "code",
      "metadata": {
        "id": "moZbmKTVKmAT",
        "colab_type": "code",
        "colab": {
          "base_uri": "https://localhost:8080/",
          "height": 802
        },
        "outputId": "f6847c34-6b53-4615-e89a-1a3882161bb5"
      },
      "source": [
        "from pandas_datareader import data as pdr\n",
        "import matplotlib.pyplot as plt\n",
        "import fix_yahoo_finance\n",
        "import pandas as pd\n",
        "# Commodity Channel Index \n",
        "def CCI(data, ndays): \n",
        "    TP = (data['High'] + data['Low'] + data['Close']) / 3 \n",
        "    CCI = pd.Series((TP - pd.Series(TP).rolling(window=ndays).mean()) / (0.015 * pd.Series(TP).rolling(window=ndays).std()),\n",
        "    name = 'CCI') \n",
        "    data = data.join(CCI) \n",
        "    return data\n",
        "    \n",
        "# Retrieve the CISCO data from Yahoo finance:\n",
        "data = pdr.get_data_yahoo(\"CSCO\", start=\"2010-01-01\", end=\"2019-12-16\") \n",
        "data = pd.DataFrame(data)\n",
        "# Compute the Commodity Channel Index(CCI) for CISCO based on the 20-day Moving average\n",
        "n = 20\n",
        "CISCO_CCI = CCI(data, n)\n",
        "CCI = CISCO_CCI['CCI']\n",
        "# Plotting the Price Series chart and the Commodity Channel index below\n",
        "fig = plt.figure(figsize=(7,5))\n",
        "ax = fig.add_subplot(2, 1, 1)\n",
        "ax.set_xticklabels([])\n",
        "plt.plot(data['Close'],lw=1)\n",
        "plt.title('NSE Price Chart')\n",
        "plt.ylabel('Close Price')\n",
        "plt.grid(True)\n",
        "bx = fig.add_subplot(2, 1, 2)\n",
        "plt.plot(CCI,'k',lw=0.75,linestyle='-',label='CCI')\n",
        "plt.legend(loc=2,prop={'size':9.5})\n",
        "plt.ylabel('CCI values')\n",
        "plt.grid(True)\n",
        "plt.setp(plt.gca().get_xticklabels(), rotation=30)"
      ],
      "execution_count": 26,
      "outputs": [
        {
          "output_type": "stream",
          "text": [
            "\r[*********************100%***********************]  1 of 1 completed\n"
          ],
          "name": "stdout"
        },
        {
          "output_type": "execute_result",
          "data": {
            "text/plain": [
              "[None,\n",
              " None,\n",
              " None,\n",
              " None,\n",
              " None,\n",
              " None,\n",
              " None,\n",
              " None,\n",
              " None,\n",
              " None,\n",
              " None,\n",
              " None,\n",
              " None,\n",
              " None,\n",
              " None,\n",
              " None,\n",
              " None,\n",
              " None,\n",
              " None,\n",
              " None,\n",
              " None,\n",
              " None,\n",
              " None,\n",
              " None]"
            ]
          },
          "metadata": {
            "tags": []
          },
          "execution_count": 26
        },
        {
          "output_type": "display_data",
          "data": {
            "image/png": "[encoded data removed]",
            "text/plain": [
              "<Figure size 504x360 with 2 Axes>"
            ]
          },
          "metadata": {
            "tags": []
          }
        }
      ]
    },
    {
      "cell_type": "markdown",
      "metadata": {
        "id": "rzNRL16N8eFB",
        "colab_type": "text"
      },
      "source": [
        "**Feature Scaling**"
      ]
    },
    {
      "cell_type": "code",
      "metadata": {
        "id": "J9LGh9b_8dfI",
        "colab_type": "code",
        "colab": {}
      },
      "source": [
        "from sklearn.preprocessing import MinMaxScaler\n",
        "sc = MinMaxScaler(feature_range = (0,1))\n",
        "scaled_data = sc.fit_transform(reshaped_stock_data_open)"
      ],
      "execution_count": 0,
      "outputs": []
    },
    {
      "cell_type": "code",
      "metadata": {
        "id": "0H2VDom68mgO",
        "colab_type": "code",
        "colab": {}
      },
      "source": [
        "def timestamp(n_period, scaled_data):\n",
        "    x_train = [] \n",
        "    y_train = [] #1 output to predict\n",
        "\n",
        "    for i in range(n_period,len(scaled_data)):\n",
        "        x_train.append(scaled_data[i-n_period:i,0])\n",
        "        y_train.append(scaled_data[i,0])\n",
        "    x_train, y_train = np.array(x_train), np.array(y_train)\n",
        "\n",
        "    #reshaping\n",
        "    x_train_ = np.reshape(x_train, (x_train.shape[0], x_train.shape[1], 1))\n",
        "\n",
        "    return x_train_, x_train, y_train"
      ],
      "execution_count": 0,
      "outputs": []
    },
    {
      "cell_type": "code",
      "metadata": {
        "id": "IBLKryX-9B8s",
        "colab_type": "code",
        "colab": {}
      },
      "source": [
        "x_train_, x_train, y_train = timestamp(60, scaled_data)"
      ],
      "execution_count": 0,
      "outputs": []
    },
    {
      "cell_type": "markdown",
      "metadata": {
        "id": "4qt8AJEQBDeR",
        "colab_type": "text"
      },
      "source": [
        "#**Part 2 - Model Identification**"
      ]
    },
    {
      "cell_type": "markdown",
      "metadata": {
        "id": "UbHyO51ID7Zb",
        "colab_type": "text"
      },
      "source": [
        "##**Decision Tree (Regression)**"
      ]
    },
    {
      "cell_type": "code",
      "metadata": {
        "id": "nhi5NOxVBBx5",
        "colab_type": "code",
        "outputId": "5c590dcd-20f1-40ec-818b-3798e05c4bbd",
        "colab": {
          "base_uri": "https://localhost:8080/",
          "height": 290
        }
      },
      "source": [
        "from sklearn.ensemble import BaggingRegressor\n",
        "from sklearn.tree import DecisionTreeRegressor\n",
        "\n",
        "dt = DecisionTreeRegressor()\n",
        "decision_tree_regr = BaggingRegressor(dt, n_estimators=10, random_state=0)\n",
        "decision_tree_regr.fit(x_train, y_train)"
      ],
      "execution_count": 0,
      "outputs": [
        {
          "output_type": "execute_result",
          "data": {
            "text/plain": [
              "BaggingRegressor(base_estimator=DecisionTreeRegressor(criterion='mse',\n",
              "                                                      max_depth=None,\n",
              "                                                      max_features=None,\n",
              "                                                      max_leaf_nodes=None,\n",
              "                                                      min_impurity_decrease=0.0,\n",
              "                                                      min_impurity_split=None,\n",
              "                                                      min_samples_leaf=1,\n",
              "                                                      min_samples_split=2,\n",
              "                                                      min_weight_fraction_leaf=0.0,\n",
              "                                                      presort=False,\n",
              "                                                      random_state=None,\n",
              "                                                      splitter='best'),\n",
              "                 bootstrap=True, bootstrap_features=False, max_features=1.0,\n",
              "                 max_samples=1.0, n_estimators=10, n_jobs=None, oob_score=False,\n",
              "                 random_state=0, verbose=0, warm_start=False)"
            ]
          },
          "metadata": {
            "tags": []
          },
          "execution_count": 27
        }
      ]
    },
    {
      "cell_type": "markdown",
      "metadata": {
        "id": "9rPpLMR-7wWh",
        "colab_type": "text"
      },
      "source": [
        "##**Recurrent Neural Network (RNN)**"
      ]
    },
    {
      "cell_type": "code",
      "metadata": {
        "id": "0MKeO-QhKQVP",
        "colab_type": "code",
        "colab": {}
      },
      "source": [
        "import warnings\n",
        "warnings.simplefilter(action='ignore', category=FutureWarning)"
      ],
      "execution_count": 0,
      "outputs": []
    },
    {
      "cell_type": "code",
      "metadata": {
        "id": "fldj8Fov7zcN",
        "colab_type": "code",
        "colab": {}
      },
      "source": [
        "#Importing the keras libraries and packages\n",
        "from tensorflow.python.keras.layers import Dense, LSTM, Dropout\n",
        "from tensorflow.python.keras import Sequential"
      ],
      "execution_count": 0,
      "outputs": []
    },
    {
      "cell_type": "code",
      "metadata": {
        "id": "ErAvXgsS78v-",
        "colab_type": "code",
        "outputId": "df308273-1f37-44c1-bda5-fe4d58ca30e2",
        "colab": {
          "base_uri": "https://localhost:8080/",
          "height": 92
        }
      },
      "source": [
        "regressor = Sequential()\n",
        "\n",
        "#Adding the first LSTM Layer and some Dropout regularisation\n",
        "regressor.add(LSTM(units=50, return_sequences=True, input_shape = (x_train_.shape[1], 1)))\n",
        "regressor.add(Dropout(rate = 0.2))"
      ],
      "execution_count": 0,
      "outputs": [
        {
          "output_type": "stream",
          "text": [
            "WARNING:tensorflow:From /usr/local/lib/python3.6/dist-packages/tensorflow_core/python/ops/resource_variable_ops.py:1630: calling BaseResourceVariable.__init__ (from tensorflow.python.ops.resource_variable_ops) with constraint is deprecated and will be removed in a future version.\n",
            "Instructions for updating:\n",
            "If using Keras pass *_constraint arguments to layers.\n"
          ],
          "name": "stdout"
        }
      ]
    },
    {
      "cell_type": "code",
      "metadata": {
        "id": "bwFOfhEG7_oT",
        "colab_type": "code",
        "outputId": "1ba9c309-3dee-4d66-bb5a-a210e95fe25e",
        "colab": {
          "base_uri": "https://localhost:8080/",
          "height": 35
        }
      },
      "source": [
        "x_train.shape[1]"
      ],
      "execution_count": 0,
      "outputs": [
        {
          "output_type": "execute_result",
          "data": {
            "text/plain": [
              "60"
            ]
          },
          "metadata": {
            "tags": []
          },
          "execution_count": 31
        }
      ]
    },
    {
      "cell_type": "code",
      "metadata": {
        "id": "0WM2v9AD8BxI",
        "colab_type": "code",
        "colab": {}
      },
      "source": [
        "#Adding the second LSTM Layer and some Dropout regularisation\n",
        "regressor.add(LSTM(units=50, return_sequences=True))\n",
        "regressor.add(Dropout(rate = 0.2))"
      ],
      "execution_count": 0,
      "outputs": []
    },
    {
      "cell_type": "code",
      "metadata": {
        "id": "-7iLbqxH8Chi",
        "colab_type": "code",
        "colab": {}
      },
      "source": [
        "#Adding the third LSTM Layer and some Dropout regularisation\n",
        "regressor.add(LSTM(units=50, return_sequences=True))\n",
        "regressor.add(Dropout(rate = 0.2))"
      ],
      "execution_count": 0,
      "outputs": []
    },
    {
      "cell_type": "code",
      "metadata": {
        "id": "N6EMu3oe8Evx",
        "colab_type": "code",
        "colab": {}
      },
      "source": [
        "#Adding the fourth LSTM Layer and some Dropout regularisation\n",
        "regressor.add(LSTM(units=50))\n",
        "regressor.add(Dropout(rate = 0.2))"
      ],
      "execution_count": 0,
      "outputs": []
    },
    {
      "cell_type": "code",
      "metadata": {
        "id": "_80lEuHF8JCV",
        "colab_type": "code",
        "colab": {}
      },
      "source": [
        "#Adding the output layer\n",
        "regressor.add(Dense(units=1))"
      ],
      "execution_count": 0,
      "outputs": []
    },
    {
      "cell_type": "code",
      "metadata": {
        "id": "-pOaXmeo8LMd",
        "colab_type": "code",
        "colab": {}
      },
      "source": [
        "#compiling the RNN\n",
        "regressor.compile(optimizer='adam', loss='mean_squared_error')"
      ],
      "execution_count": 0,
      "outputs": []
    },
    {
      "cell_type": "code",
      "metadata": {
        "id": "3K8DHTIi8P9P",
        "colab_type": "code",
        "outputId": "491e7f1f-6922-4b26-fe0f-b30e6fe204bc",
        "colab": {
          "base_uri": "https://localhost:8080/",
          "height": 1000
        }
      },
      "source": [
        "#fitting the RNN to the training set\n",
        "regressor.fit(x_train_, y_train, epochs=50, batch_size = 32)"
      ],
      "execution_count": 0,
      "outputs": [
        {
          "output_type": "stream",
          "text": [
            "WARNING:tensorflow:From /usr/local/lib/python3.6/dist-packages/tensorflow_core/python/ops/math_grad.py:1424: where (from tensorflow.python.ops.array_ops) is deprecated and will be removed in a future version.\n",
            "Instructions for updating:\n",
            "Use tf.where in 2.0, which has the same broadcast rule as np.where\n",
            "Train on 1953 samples\n",
            "Epoch 1/50\n",
            "1953/1953 [==============================] - 34s 17ms/sample - loss: 0.0184\n",
            "Epoch 2/50\n",
            "1953/1953 [==============================] - 27s 14ms/sample - loss: 0.0031\n",
            "Epoch 3/50\n",
            "1953/1953 [==============================] - 27s 14ms/sample - loss: 0.0031\n",
            "Epoch 4/50\n",
            "1953/1953 [==============================] - 27s 14ms/sample - loss: 0.0027\n",
            "Epoch 5/50\n",
            "1953/1953 [==============================] - 27s 14ms/sample - loss: 0.0033\n",
            "Epoch 6/50\n",
            "1953/1953 [==============================] - 27s 14ms/sample - loss: 0.0030\n",
            "Epoch 7/50\n",
            "1953/1953 [==============================] - 27s 14ms/sample - loss: 0.0026\n",
            "Epoch 8/50\n",
            "1953/1953 [==============================] - 27s 14ms/sample - loss: 0.0023\n",
            "Epoch 9/50\n",
            "1953/1953 [==============================] - 27s 14ms/sample - loss: 0.0035\n",
            "Epoch 10/50\n",
            "1953/1953 [==============================] - 27s 14ms/sample - loss: 0.0024\n",
            "Epoch 11/50\n",
            "1953/1953 [==============================] - 27s 14ms/sample - loss: 0.0021\n",
            "Epoch 12/50\n",
            "1953/1953 [==============================] - 27s 14ms/sample - loss: 0.0020\n",
            "Epoch 13/50\n",
            "1953/1953 [==============================] - 27s 14ms/sample - loss: 0.0023\n",
            "Epoch 14/50\n",
            "1953/1953 [==============================] - 27s 14ms/sample - loss: 0.0021\n",
            "Epoch 15/50\n",
            "1953/1953 [==============================] - 27s 14ms/sample - loss: 0.0018\n",
            "Epoch 16/50\n",
            "1953/1953 [==============================] - 27s 14ms/sample - loss: 0.0018\n",
            "Epoch 17/50\n",
            "1953/1953 [==============================] - 27s 14ms/sample - loss: 0.0018\n",
            "Epoch 18/50\n",
            "1953/1953 [==============================] - 27s 14ms/sample - loss: 0.0018\n",
            "Epoch 19/50\n",
            "1953/1953 [==============================] - 27s 14ms/sample - loss: 0.0016\n",
            "Epoch 20/50\n",
            "1953/1953 [==============================] - 27s 14ms/sample - loss: 0.0024\n",
            "Epoch 21/50\n",
            "1953/1953 [==============================] - 27s 14ms/sample - loss: 0.0018\n",
            "Epoch 22/50\n",
            "1953/1953 [==============================] - 27s 14ms/sample - loss: 0.0019\n",
            "Epoch 23/50\n",
            "1953/1953 [==============================] - 27s 14ms/sample - loss: 0.0018\n",
            "Epoch 24/50\n",
            "1953/1953 [==============================] - 27s 14ms/sample - loss: 0.0017\n",
            "Epoch 25/50\n",
            "1953/1953 [==============================] - 27s 14ms/sample - loss: 0.0017\n",
            "Epoch 26/50\n",
            "1953/1953 [==============================] - 27s 14ms/sample - loss: 0.0016\n",
            "Epoch 27/50\n",
            "1953/1953 [==============================] - 27s 14ms/sample - loss: 0.0015\n",
            "Epoch 28/50\n",
            "1953/1953 [==============================] - 27s 14ms/sample - loss: 0.0015\n",
            "Epoch 29/50\n",
            "1953/1953 [==============================] - 27s 14ms/sample - loss: 0.0014\n",
            "Epoch 30/50\n",
            "1953/1953 [==============================] - 27s 14ms/sample - loss: 0.0014\n",
            "Epoch 31/50\n",
            "1953/1953 [==============================] - 27s 14ms/sample - loss: 0.0013\n",
            "Epoch 32/50\n",
            "1953/1953 [==============================] - 27s 14ms/sample - loss: 0.0014\n",
            "Epoch 33/50\n",
            "1953/1953 [==============================] - 28s 14ms/sample - loss: 0.0015\n",
            "Epoch 34/50\n",
            "1953/1953 [==============================] - 27s 14ms/sample - loss: 0.0018\n",
            "Epoch 35/50\n",
            "1953/1953 [==============================] - 27s 14ms/sample - loss: 0.0012\n",
            "Epoch 36/50\n",
            "1953/1953 [==============================] - 27s 14ms/sample - loss: 0.0013\n",
            "Epoch 37/50\n",
            "1953/1953 [==============================] - 27s 14ms/sample - loss: 0.0013\n",
            "Epoch 38/50\n",
            "1953/1953 [==============================] - 27s 14ms/sample - loss: 0.0012\n",
            "Epoch 39/50\n",
            "1953/1953 [==============================] - 27s 14ms/sample - loss: 0.0013\n",
            "Epoch 40/50\n",
            "1953/1953 [==============================] - 27s 14ms/sample - loss: 0.0011\n",
            "Epoch 41/50\n",
            "1953/1953 [==============================] - 27s 14ms/sample - loss: 0.0011\n",
            "Epoch 42/50\n",
            "1953/1953 [==============================] - 27s 14ms/sample - loss: 0.0012\n",
            "Epoch 43/50\n",
            "1953/1953 [==============================] - 27s 14ms/sample - loss: 0.0011\n",
            "Epoch 44/50\n",
            "1953/1953 [==============================] - 27s 14ms/sample - loss: 0.0011\n",
            "Epoch 45/50\n",
            "1953/1953 [==============================] - 27s 14ms/sample - loss: 0.0011\n",
            "Epoch 46/50\n",
            "1953/1953 [==============================] - 27s 14ms/sample - loss: 0.0010\n",
            "Epoch 47/50\n",
            "1953/1953 [==============================] - 26s 14ms/sample - loss: 0.0011\n",
            "Epoch 48/50\n",
            "1953/1953 [==============================] - 26s 13ms/sample - loss: 0.0011\n",
            "Epoch 49/50\n",
            "1953/1953 [==============================] - 27s 14ms/sample - loss: 0.0010\n",
            "Epoch 50/50\n",
            "1953/1953 [==============================] - 27s 14ms/sample - loss: 0.0011\n"
          ],
          "name": "stdout"
        },
        {
          "output_type": "execute_result",
          "data": {
            "text/plain": [
              "<tensorflow.python.keras.callbacks.History at 0x7fdbda0e7eb8>"
            ]
          },
          "metadata": {
            "tags": []
          },
          "execution_count": 38
        }
      ]
    },
    {
      "cell_type": "markdown",
      "metadata": {
        "id": "2JhqXHA0qTP7",
        "colab_type": "text"
      },
      "source": [
        "**Save the model**"
      ]
    },
    {
      "cell_type": "code",
      "metadata": {
        "id": "w-n7T2kLo_Kn",
        "colab_type": "code",
        "colab": {}
      },
      "source": [
        "regressor = regressor.save(\"regressor.h5\")"
      ],
      "execution_count": 0,
      "outputs": []
    },
    {
      "cell_type": "markdown",
      "metadata": {
        "id": "-Cg2xPnOqYqt",
        "colab_type": "text"
      },
      "source": [
        "**Load the model**"
      ]
    },
    {
      "cell_type": "code",
      "metadata": {
        "id": "foORAh2ep18l",
        "colab_type": "code",
        "colab": {}
      },
      "source": [
        "from tensorflow.python.keras.models import load_model\n",
        "\n",
        "regressor = load_model(\"regressor.h5\")"
      ],
      "execution_count": 0,
      "outputs": []
    },
    {
      "cell_type": "markdown",
      "metadata": {
        "id": "uXyp7Km_qgFw",
        "colab_type": "text"
      },
      "source": [
        "##**Making the predictions and visualising the results**"
      ]
    },
    {
      "cell_type": "code",
      "metadata": {
        "id": "Ad_-p9kb-qMq",
        "colab_type": "code",
        "colab": {}
      },
      "source": [
        "# Getting the real/test stock price of 2019\n",
        "test_stock_data = pdr.get_data_yahoo(SELECTED_STOCK, start = '2018-12-18', end = '2019-12-17')\n",
        "real_stock_price = test_stock_data.iloc[:, 1:2].values"
      ],
      "execution_count": 0,
      "outputs": []
    },
    {
      "cell_type": "code",
      "metadata": {
        "id": "PFr-P0u4_HHQ",
        "colab_type": "code",
        "colab": {}
      },
      "source": [
        "dataset_total = pd.concat((stock_data['Open'], test_stock_data['Open']), axis = 0)\n",
        "inputs = dataset_total[len(dataset_total) - len(test_stock_data) - 60:].values\n",
        "inputs = inputs.reshape(-1,1)\n",
        "inputs = sc.transform(inputs)"
      ],
      "execution_count": 0,
      "outputs": []
    },
    {
      "cell_type": "code",
      "metadata": {
        "id": "XEqukC49_Hy6",
        "colab_type": "code",
        "colab": {}
      },
      "source": [
        "X_test = []\n",
        "for i in range(60, 310): #80 because we're predicting 20 records\n",
        "    X_test.append(inputs[i-60:i, 0])\n",
        "X_test = np.array(X_test)\n",
        "X_test = np.reshape(X_test, (X_test.shape[0], X_test.shape[1], 1))"
      ],
      "execution_count": 0,
      "outputs": []
    },
    {
      "cell_type": "code",
      "metadata": {
        "id": "Y8U81iIQ_MAt",
        "colab_type": "code",
        "colab": {}
      },
      "source": [
        "predicted_stock_price = regressor.predict(X_test)\n",
        "predicted_stock_price = sc.inverse_transform(predicted_stock_price) #retranform the output because our input data was scaled between 0 and 1."
      ],
      "execution_count": 0,
      "outputs": []
    },
    {
      "cell_type": "code",
      "metadata": {
        "id": "hL4qM5SO_PF1",
        "colab_type": "code",
        "outputId": "12d1e3e1-1001-4cfd-d1a0-3955be3781d8",
        "colab": {
          "base_uri": "https://localhost:8080/",
          "height": 369
        }
      },
      "source": [
        "# Visualising the results\n",
        "plt.plot(real_stock_price, color = 'red', label = 'Real CISCO Stock Price')\n",
        "plt.plot(predicted_stock_price, color = 'blue', label = 'Predicted CISCO Stock Price')\n",
        "plt.title('CISCO Stock Price Prediction')\n",
        "plt.xlabel('Time')\n",
        "plt.ylabel('CISCO Stock Price')\n",
        "plt.legend()\n",
        "plt.show()"
      ],
      "execution_count": 0,
      "outputs": [
        {
          "output_type": "execute_result",
          "data": {
            "text/plain": [
              "[<matplotlib.lines.Line2D at 0x7fdb7eb72b00>]"
            ]
          },
          "metadata": {
            "tags": []
          },
          "execution_count": 58
        },
        {
          "output_type": "execute_result",
          "data": {
            "text/plain": [
              "[<matplotlib.lines.Line2D at 0x7fdb822cfa90>]"
            ]
          },
          "metadata": {
            "tags": []
          },
          "execution_count": 58
        },
        {
          "output_type": "execute_result",
          "data": {
            "text/plain": [
              "Text(0.5, 1.0, 'CISCO Stock Price Prediction')"
            ]
          },
          "metadata": {
            "tags": []
          },
          "execution_count": 58
        },
        {
          "output_type": "execute_result",
          "data": {
            "text/plain": [
              "Text(0.5, 0, 'Time')"
            ]
          },
          "metadata": {
            "tags": []
          },
          "execution_count": 58
        },
        {
          "output_type": "execute_result",
          "data": {
            "text/plain": [
              "Text(0, 0.5, 'CISCO Stock Price')"
            ]
          },
          "metadata": {
            "tags": []
          },
          "execution_count": 58
        },
        {
          "output_type": "execute_result",
          "data": {
            "text/plain": [
              "<matplotlib.legend.Legend at 0x7fdb7eb72fd0>"
            ]
          },
          "metadata": {
            "tags": []
          },
          "execution_count": 58
        },
        {
          "output_type": "display_data",
          "data": {
            "image/png": "[encoded data removed]",
            "text/plain": [
              "<Figure size 432x288 with 1 Axes>"
            ]
          },
          "metadata": {
            "tags": []
          }
        }
      ]
    }
  ]
}